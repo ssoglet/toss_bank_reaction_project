{
 "cells": [
  {
   "cell_type": "code",
   "execution_count": 39,
   "id": "2aea8356",
   "metadata": {},
   "outputs": [],
   "source": [
    "from matplotlib import pyplot as plt\n",
    "import pandas as pd\n",
    "import seaborn as sns\n",
    "import numpy as np"
   ]
  },
  {
   "cell_type": "code",
   "execution_count": 40,
   "id": "28de9b89",
   "metadata": {},
   "outputs": [],
   "source": [
    "emotions=pd.read_csv(\"emotions.csv\")"
   ]
  },
  {
   "cell_type": "code",
   "execution_count": 41,
   "id": "e3459675",
   "metadata": {},
   "outputs": [
    {
     "data": {
      "text/html": [
       "<div>\n",
       "<style scoped>\n",
       "    .dataframe tbody tr th:only-of-type {\n",
       "        vertical-align: middle;\n",
       "    }\n",
       "\n",
       "    .dataframe tbody tr th {\n",
       "        vertical-align: top;\n",
       "    }\n",
       "\n",
       "    .dataframe thead th {\n",
       "        text-align: right;\n",
       "    }\n",
       "</style>\n",
       "<table border=\"1\" class=\"dataframe\">\n",
       "  <thead>\n",
       "    <tr style=\"text-align: right;\">\n",
       "      <th></th>\n",
       "      <th>types</th>\n",
       "      <th>number</th>\n",
       "    </tr>\n",
       "  </thead>\n",
       "  <tbody>\n",
       "    <tr>\n",
       "      <th>0</th>\n",
       "      <td>likes</td>\n",
       "      <td>37</td>\n",
       "    </tr>\n",
       "    <tr>\n",
       "      <th>1</th>\n",
       "      <td>likes</td>\n",
       "      <td>34</td>\n",
       "    </tr>\n",
       "    <tr>\n",
       "      <th>2</th>\n",
       "      <td>likes</td>\n",
       "      <td>58</td>\n",
       "    </tr>\n",
       "    <tr>\n",
       "      <th>3</th>\n",
       "      <td>likes</td>\n",
       "      <td>62</td>\n",
       "    </tr>\n",
       "    <tr>\n",
       "      <th>4</th>\n",
       "      <td>likes</td>\n",
       "      <td>125</td>\n",
       "    </tr>\n",
       "  </tbody>\n",
       "</table>\n",
       "</div>"
      ],
      "text/plain": [
       "   types  number\n",
       "0  likes      37\n",
       "1  likes      34\n",
       "2  likes      58\n",
       "3  likes      62\n",
       "4  likes     125"
      ]
     },
     "execution_count": 41,
     "metadata": {},
     "output_type": "execute_result"
    }
   ],
   "source": [
    "emotions.head()"
   ]
  },
  {
   "cell_type": "code",
   "execution_count": 42,
   "id": "993d7821",
   "metadata": {},
   "outputs": [
    {
     "data": {
      "image/png": "[encoded data removed]",
      "text/plain": [
       "<Figure size 432x288 with 1 Axes>"
      ]
     },
     "metadata": {
      "needs_background": "light"
     },
     "output_type": "display_data"
    }
   ],
   "source": [
    "sns.stripplot(x='types',y='number',data=emotions)\n",
    "plt.ylabel('number of emotions')\n",
    "plt.show()"
   ]
  },
  {
   "cell_type": "code",
   "execution_count": 49,
   "id": "3e981b80",
   "metadata": {},
   "outputs": [
    {
     "name": "stdout",
     "output_type": "stream",
     "text": [
      "[37, 34, 58, 62, 125, 38, 129, 83, 62, 104]\n",
      "[1, 3, 0, 1, 1, 1, 0, 3, 6, 7]\n",
      "[1, 1, 1, 0, 2, 0, 1, 1, 0, 0]\n",
      "[15, 7, 11, 4, 15, 3, 7, 12, 3, 21]\n",
      "[5, 2, 3, 0, 8, 4, 7, 7, 4, 6]\n"
     ]
    }
   ],
   "source": [
    "likes:['37', '34', '58', '62', '125', '38', '129', '83', '62', '104']\n",
    "likes=list(map(int,likes))\n",
    "print(likes)\n",
    "hunhuns : ['1', '3', '0', '1', '1', '1', '0', '3', '6', '7']\n",
    "hunhuns=list(map(int,hunhuns))\n",
    "print(hunhuns)\n",
    "sads:['1', '1', '1', '0', '2', '0', '1', '1', '0', '0']\n",
    "sads=list(map(int,sads))\n",
    "print(sads)\n",
    "angrys:['15', '7', '11', '4', '15', '3', '7', '12', '3', '21']\n",
    "angrys=list(map(int,angrys))\n",
    "print(angrys)\n",
    "wants:['5', '2', '3', '0', '8', '4', '7', '7', '4', '6']\n",
    "wants=list(map(int,wants))\n",
    "print(wants)"
   ]
  },
  {
   "cell_type": "code",
   "execution_count": 50,
   "id": "a2c0bb25",
   "metadata": {},
   "outputs": [
    {
     "data": {
      "image/png": "[encoded data removed]",
      "text/plain": [
       "<Figure size 720x576 with 1 Axes>"
      ]
     },
     "metadata": {
      "needs_background": "light"
     },
     "output_type": "display_data"
    }
   ],
   "source": [
    "data={\"likes\":[37, 34, 58, 62, 125, 38, 129, 83, 62, 104],\n",
    "      \"hunhuns\":[1, 3, 0, 1, 1, 1, 0, 3, 6, 7],\n",
    "      \"sads\":[1, 1, 1, 0, 2, 0, 1, 1, 0, 0],\n",
    "      \"angrys\":[15, 7, 11, 4, 15, 3, 7, 12, 3, 21],\n",
    "      \"wants\":[5, 2, 3, 0, 8, 4, 7, 7, 4, 6]}\n",
    "articles=['a1','a2','a3','a4','a5','a6','a7','a8','a9','a10']\n",
    "df=pd.DataFrame(data,index=articles)\n",
    "df.plot(kind=\"bar\",stacked=True,figsize=(10,8))\n",
    "plt.legend(loc=\"lower left\",bbox_to_anchor=(0.8,1.0))\n",
    "plt.show()"
   ]
  }
 ],
 "metadata": {
  "kernelspec": {
   "display_name": "Python 3",
   "language": "python",
   "name": "python3"
  },
  "language_info": {
   "codemirror_mode": {
    "name": "ipython",
    "version": 3
   },
   "file_extension": ".py",
   "mimetype": "text/x-python",
   "name": "python",
   "nbconvert_exporter": "python",
   "pygments_lexer": "ipython3",
   "version": "3.8.8"
  }
 },
 "nbformat": 4,
 "nbformat_minor": 5
}
